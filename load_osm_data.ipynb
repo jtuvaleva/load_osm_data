{
 "cells": [
  {
   "cell_type": "code",
   "execution_count": null,
   "metadata": {},
   "outputs": [],
   "source": [
    "import pandas as pd\n",
    "import numpy as np\n",
    "import requests\n",
    "import json\n",
    "from transliterate import translit\n",
    "from tqdm import tqdm"
   ]
  },
  {
   "cell_type": "code",
   "execution_count": null,
   "metadata": {},
   "outputs": [],
   "source": [
    "def get_tag(x, key_name):\n",
    "    if str(key_name) in x:\n",
    "        tmp = x[key_name]\n",
    "        return tmp\n",
    "    else:\n",
    "        return 'NULL'"
   ]
  },
  {
   "cell_type": "code",
   "execution_count": null,
   "metadata": {},
   "outputs": [],
   "source": [
    "city_bboxes = pd.read_csv('/data/russian_cities_bbox.csv')"
   ]
  },
  {
   "cell_type": "code",
   "execution_count": null,
   "metadata": {},
   "outputs": [],
   "source": [
    "big_city = ['Нижний Новгород','Казань','Воронеж','Волгоград',\n",
    "            'Уфа','Челябинск','Екатеринбург']\n",
    "\n",
    "city_bboxes = city_bboxes[city_bboxes['name'].isin(big_city)]"
   ]
  },
  {
   "cell_type": "code",
   "execution_count": null,
   "metadata": {},
   "outputs": [],
   "source": [
    "for ct in tqdm(city_bboxes['name'].index):\n",
    "    city_name = translit(city_bboxes['name'].loc[ct], 'ru', reversed=True)\n",
    "    print(city_name)\n",
    "    tmp_bbox = city_bboxes['bbox_str'].loc[ct]\n",
    "    \n",
    "    overpass_url = \"https://overpass.kumi.systems/api/interpreter\"\n",
    "    ###you can input other items, please see https://wiki.openstreetmap.org/wiki/Main_Page\n",
    "    overpass_query = \"\"\"\n",
    "    [out:json];\n",
    "    (node[\"amenity\"](\"\"\"+tmp_bbox+\"\"\");\n",
    "     node[\"shop\"](\"\"\"+tmp_bbox+\"\"\");\n",
    "     node[\"highway\"=\"bus_stop\"](\"\"\"+tmp_bbox+\"\"\");\n",
    "    );\n",
    "    out body;\n",
    "    \"\"\"\n",
    "    response = requests.get(overpass_url, \n",
    "                            params={'data': overpass_query})\n",
    "    data = response.json()\n",
    "\n",
    "    loaded = pd.DataFrame(data['elements'])\n",
    "    loaded['amenity'] = loaded['tags'].apply(lambda x: get_tag(x, 'amenity'))\n",
    "    loaded['name'] = loaded['tags'].apply(lambda x: get_tag(x, 'name'))\n",
    "    loaded['shop'] = loaded['tags'].apply(lambda x: get_tag(x, 'shop'))\n",
    "    loaded['highway'] = loaded['tags'].apply(lambda x: get_tag(x, 'highway'))\n",
    "    loaded.to_csv('name_{}_osm_poi.csv'.format(city_name), index=False)"
   ]
  },
  {
   "cell_type": "code",
   "execution_count": null,
   "metadata": {},
   "outputs": [],
   "source": []
  }
 ],
 "metadata": {
  "kernelspec": {
   "display_name": "Python 3",
   "language": "python",
   "name": "python3"
  },
  "language_info": {
   "codemirror_mode": {
    "name": "ipython",
    "version": 3
   },
   "file_extension": ".py",
   "mimetype": "text/x-python",
   "name": "python",
   "nbconvert_exporter": "python",
   "pygments_lexer": "ipython3",
   "version": "3.6.6"
  }
 },
 "nbformat": 4,
 "nbformat_minor": 2
}
